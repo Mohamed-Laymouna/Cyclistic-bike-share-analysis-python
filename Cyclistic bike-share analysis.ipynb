{
 "cells": [
  {
   "cell_type": "markdown",
   "metadata": {},
   "source": [
    "# Introduction"
   ]
  },
  {
   "cell_type": "markdown",
   "metadata": {},
   "source": [
    " Welcome to the Cyclistic bike-share analysis case study! This case study is part of the Google Data Analytics Professional Certificate. The case study is about a company called Cyclistic, a bike-share company in Chicago. In this case study, we will perform an analysis of the bike-share data for the company Cyclistic. \n",
    " We will be using the data to understand how casual riders and annual members use Cyclistic bikes differently.Also using the data to help the company make strategic decisions for the future.\n",
    "\n",
    "#### About the company\n",
    "* Cyclistic: is A bike-share program that features more than 5,800 bicycles and 600\n",
    "docking stations. Cyclistic sets itself apart by also offering reclining bikes, hand\n",
    "tricycles, and cargo bikes, making bike-share more inclusive to people with disabilities\n",
    "and riders who can’t use a standard two-wheeled bike.\n",
    "The bikes can be unlocked from one station and returned to any other stationin the system anytime.\n",
    "#### Objective\n",
    "* The company's marketing strategy focuses on building awareness and appealing to diverse consumer segments. It offers pricing plans for single-ride passes, full-day passes, and annual memberships. `Annual members are more profitable than casual riders`. Cyclistic `aims to convert casual riders into members`, as they are already aware of the program and have chosen Cyclistic for their mobility needs."
   ]
  },
  {
   "cell_type": "markdown",
   "metadata": {},
   "source": [
    "# 1. Ask Phase"
   ]
  },
  {
   "cell_type": "markdown",
   "metadata": {},
   "source": [
    " As the objective of Cyclistic is to maximize the number of annual memberships, by understanding how casual riders and annual members use Cyclistic bikes differently, we can design a marketing strategy to convert casual riders into annual members. \n",
    "- To do that, we need to understand the following:<br><br>\n",
    "Three questions will guide the future marketing program:\n",
    " 1. How do annual members and casual riders use Cyclistic bikes differently?\n",
    " 2. Why would casual riders buy Cyclistic annual memberships?\n",
    " 3. How can Cyclistic use digital media to influence casual riders to become members?\n",
    "\n",
    "\n",
    "- To answer these questions, we will analyze the Cyclistic data to understand the behavior of casual riders and annual members. \n",
    "\n",
    "\n",
    "\n",
    "Let's start by loading the data and understanding the data.\n",
    "\n"
   ]
  },
  {
   "cell_type": "markdown",
   "metadata": {},
   "source": [
    "# 2. Prepare The Data"
   ]
  },
  {
   "cell_type": "markdown",
   "metadata": {},
   "source": [
    "The datset used in this case is Cyclistic’s historical trip data , which is publicly available at this [link](https://divvy-tripdata.s3.amazonaws.com/index.html) . The data has been made available Motivate International Inc. under this [license](https://www.divvybikes.com/data-license-agreement).\n",
    "\n",
    " we will use the data from data from `Divvy 2019 Q1` to `Divvy 2020 Q4` (four quarters) to analyze the data and provide insights to the stakeholders.\n",
    " The data is available in the form of csv files and we will use pandas to read the data and manipulate it.\n",
    "\n"
   ]
  },
  {
   "cell_type": "code",
   "execution_count": 1,
   "metadata": {},
   "outputs": [],
   "source": [
    "# import relevant libraries\n",
    "import pandas as pd\n",
    "import numpy as np\n",
    "import matplotlib.pyplot as plt\n",
    "import seaborn as sns"
   ]
  },
  {
   "cell_type": "markdown",
   "metadata": {},
   "source": [
    "#### COLLECT DATA"
   ]
  },
  {
   "cell_type": "code",
   "execution_count": 2,
   "metadata": {},
   "outputs": [],
   "source": [
    "# read the four datasets into pandas dataframes\n",
    "q1_2019 = pd.read_csv('Divvy_Trips_2019_Q1.csv')\n",
    "q2_2019 = pd.read_csv('Divvy_Trips_2019_Q2.csv')\n",
    "q3_2019 = pd.read_csv('Divvy_Trips_2019_Q3.csv')\n",
    "q4_2019 = pd.read_csv('Divvy_Trips_2019_Q4.csv')"
   ]
  },
  {
   "cell_type": "markdown",
   "metadata": {},
   "source": [
    "#### WRANGLE DATA AND COMBINE INTO A SINGLE FILE"
   ]
  },
  {
   "cell_type": "markdown",
   "metadata": {},
   "source": [
    "##### compare the datasets"
   ]
  },
  {
   "cell_type": "code",
   "execution_count": 3,
   "metadata": {},
   "outputs": [
    {
     "name": "stdout",
     "output_type": "stream",
     "text": [
      "(365069, 12)\n",
      "(1108163, 12)\n",
      "(1640718, 12)\n",
      "(704054, 12)\n"
     ]
    }
   ],
   "source": [
    "# check the shape of the two datasets\n",
    "print(q1_2019.shape)\n",
    "print(q2_2019.shape)\n",
    "print(q3_2019.shape)\n",
    "print(q4_2019.shape)"
   ]
  },
  {
   "cell_type": "code",
   "execution_count": 4,
   "metadata": {},
   "outputs": [
    {
     "name": "stdout",
     "output_type": "stream",
     "text": [
      "The datasets have the same columns\n"
     ]
    }
   ],
   "source": [
    "# check if the datasets have the same columns\n",
    "if q1_2019.columns.all() == q2_2019.columns.all() == q3_2019.columns.all() == q4_2019.columns.all():\n",
    "    print('The datasets have the same columns')"
   ]
  },
  {
   "cell_type": "markdown",
   "metadata": {},
   "source": [
    "- the columns are the same for all the datasets, so we can concatenate them into one dataframe\n",
    "- we will use the pandas concat function to do this\n",
    "- we will also add a column to each dataframe to indicate the quarter"
   ]
  },
  {
   "cell_type": "code",
   "execution_count": 5,
   "metadata": {},
   "outputs": [],
   "source": [
    "# add a column to each dataset to indicate the quarter\n",
    "q1_2019['quarter'] = 'q1'\n",
    "q2_2019['quarter'] = 'q2'\n",
    "q3_2019['quarter'] = 'q3'\n",
    "q4_2019['quarter'] = 'q4'\n"
   ]
  },
  {
   "cell_type": "code",
   "execution_count": 6,
   "metadata": {},
   "outputs": [
    {
     "data": {
      "text/plain": [
       "(3818004, 13)"
      ]
     },
     "execution_count": 6,
     "metadata": {},
     "output_type": "execute_result"
    }
   ],
   "source": [
    "# concatenate the dataframes\n",
    "df = pd.concat([q1_2019, q2_2019, q3_2019, q4_2019])\n",
    "df.shape\n"
   ]
  },
  {
   "cell_type": "markdown",
   "metadata": {},
   "source": [
    "#### CLEAN UP AND ADD DATA TO PREPARE FOR ANALYSIS"
   ]
  },
  {
   "cell_type": "code",
   "execution_count": 7,
   "metadata": {},
   "outputs": [
    {
     "data": {
      "text/html": [
       "<div>\n",
       "<style scoped>\n",
       "    .dataframe tbody tr th:only-of-type {\n",
       "        vertical-align: middle;\n",
       "    }\n",
       "\n",
       "    .dataframe tbody tr th {\n",
       "        vertical-align: top;\n",
       "    }\n",
       "\n",
       "    .dataframe thead th {\n",
       "        text-align: right;\n",
       "    }\n",
       "</style>\n",
       "<table border=\"1\" class=\"dataframe\">\n",
       "  <thead>\n",
       "    <tr style=\"text-align: right;\">\n",
       "      <th></th>\n",
       "      <th>trip_id</th>\n",
       "      <th>start_time</th>\n",
       "      <th>end_time</th>\n",
       "      <th>bikeid</th>\n",
       "      <th>tripduration</th>\n",
       "      <th>from_station_id</th>\n",
       "      <th>from_station_name</th>\n",
       "      <th>to_station_id</th>\n",
       "      <th>to_station_name</th>\n",
       "      <th>usertype</th>\n",
       "      <th>gender</th>\n",
       "      <th>birthyear</th>\n",
       "      <th>quarter</th>\n",
       "    </tr>\n",
       "  </thead>\n",
       "  <tbody>\n",
       "    <tr>\n",
       "      <th>0</th>\n",
       "      <td>21742443</td>\n",
       "      <td>2019-01-01 00:04:37</td>\n",
       "      <td>2019-01-01 00:11:07</td>\n",
       "      <td>2167</td>\n",
       "      <td>390.0</td>\n",
       "      <td>199</td>\n",
       "      <td>Wabash Ave &amp; Grand Ave</td>\n",
       "      <td>84</td>\n",
       "      <td>Milwaukee Ave &amp; Grand Ave</td>\n",
       "      <td>Subscriber</td>\n",
       "      <td>Male</td>\n",
       "      <td>1989.0</td>\n",
       "      <td>q1</td>\n",
       "    </tr>\n",
       "    <tr>\n",
       "      <th>1</th>\n",
       "      <td>21742444</td>\n",
       "      <td>2019-01-01 00:08:13</td>\n",
       "      <td>2019-01-01 00:15:34</td>\n",
       "      <td>4386</td>\n",
       "      <td>441.0</td>\n",
       "      <td>44</td>\n",
       "      <td>State St &amp; Randolph St</td>\n",
       "      <td>624</td>\n",
       "      <td>Dearborn St &amp; Van Buren St (*)</td>\n",
       "      <td>Subscriber</td>\n",
       "      <td>Female</td>\n",
       "      <td>1990.0</td>\n",
       "      <td>q1</td>\n",
       "    </tr>\n",
       "    <tr>\n",
       "      <th>2</th>\n",
       "      <td>21742445</td>\n",
       "      <td>2019-01-01 00:13:23</td>\n",
       "      <td>2019-01-01 00:27:12</td>\n",
       "      <td>1524</td>\n",
       "      <td>829.0</td>\n",
       "      <td>15</td>\n",
       "      <td>Racine Ave &amp; 18th St</td>\n",
       "      <td>644</td>\n",
       "      <td>Western Ave &amp; Fillmore St (*)</td>\n",
       "      <td>Subscriber</td>\n",
       "      <td>Female</td>\n",
       "      <td>1994.0</td>\n",
       "      <td>q1</td>\n",
       "    </tr>\n",
       "    <tr>\n",
       "      <th>3</th>\n",
       "      <td>21742446</td>\n",
       "      <td>2019-01-01 00:13:45</td>\n",
       "      <td>2019-01-01 00:43:28</td>\n",
       "      <td>252</td>\n",
       "      <td>1,783.0</td>\n",
       "      <td>123</td>\n",
       "      <td>California Ave &amp; Milwaukee Ave</td>\n",
       "      <td>176</td>\n",
       "      <td>Clark St &amp; Elm St</td>\n",
       "      <td>Subscriber</td>\n",
       "      <td>Male</td>\n",
       "      <td>1993.0</td>\n",
       "      <td>q1</td>\n",
       "    </tr>\n",
       "    <tr>\n",
       "      <th>4</th>\n",
       "      <td>21742447</td>\n",
       "      <td>2019-01-01 00:14:52</td>\n",
       "      <td>2019-01-01 00:20:56</td>\n",
       "      <td>1170</td>\n",
       "      <td>364.0</td>\n",
       "      <td>173</td>\n",
       "      <td>Mies van der Rohe Way &amp; Chicago Ave</td>\n",
       "      <td>35</td>\n",
       "      <td>Streeter Dr &amp; Grand Ave</td>\n",
       "      <td>Subscriber</td>\n",
       "      <td>Male</td>\n",
       "      <td>1994.0</td>\n",
       "      <td>q1</td>\n",
       "    </tr>\n",
       "  </tbody>\n",
       "</table>\n",
       "</div>"
      ],
      "text/plain": [
       "    trip_id           start_time             end_time  bikeid tripduration  \\\n",
       "0  21742443  2019-01-01 00:04:37  2019-01-01 00:11:07    2167        390.0   \n",
       "1  21742444  2019-01-01 00:08:13  2019-01-01 00:15:34    4386        441.0   \n",
       "2  21742445  2019-01-01 00:13:23  2019-01-01 00:27:12    1524        829.0   \n",
       "3  21742446  2019-01-01 00:13:45  2019-01-01 00:43:28     252      1,783.0   \n",
       "4  21742447  2019-01-01 00:14:52  2019-01-01 00:20:56    1170        364.0   \n",
       "\n",
       "   from_station_id                    from_station_name  to_station_id  \\\n",
       "0              199               Wabash Ave & Grand Ave             84   \n",
       "1               44               State St & Randolph St            624   \n",
       "2               15                 Racine Ave & 18th St            644   \n",
       "3              123       California Ave & Milwaukee Ave            176   \n",
       "4              173  Mies van der Rohe Way & Chicago Ave             35   \n",
       "\n",
       "                  to_station_name    usertype  gender  birthyear quarter  \n",
       "0       Milwaukee Ave & Grand Ave  Subscriber    Male     1989.0      q1  \n",
       "1  Dearborn St & Van Buren St (*)  Subscriber  Female     1990.0      q1  \n",
       "2   Western Ave & Fillmore St (*)  Subscriber  Female     1994.0      q1  \n",
       "3               Clark St & Elm St  Subscriber    Male     1993.0      q1  \n",
       "4         Streeter Dr & Grand Ave  Subscriber    Male     1994.0      q1  "
      ]
     },
     "execution_count": 7,
     "metadata": {},
     "output_type": "execute_result"
    }
   ],
   "source": [
    "# check the first few rows of the dataframe\n",
    "df.head()"
   ]
  },
  {
   "cell_type": "code",
   "execution_count": 8,
   "metadata": {},
   "outputs": [
    {
     "name": "stdout",
     "output_type": "stream",
     "text": [
      "<class 'pandas.core.frame.DataFrame'>\n",
      "Index: 3818004 entries, 0 to 704053\n",
      "Data columns (total 13 columns):\n",
      " #   Column             Dtype  \n",
      "---  ------             -----  \n",
      " 0   trip_id            int64  \n",
      " 1   start_time         object \n",
      " 2   end_time           object \n",
      " 3   bikeid             int64  \n",
      " 4   tripduration       object \n",
      " 5   from_station_id    int64  \n",
      " 6   from_station_name  object \n",
      " 7   to_station_id      int64  \n",
      " 8   to_station_name    object \n",
      " 9   usertype           object \n",
      " 10  gender             object \n",
      " 11  birthyear          float64\n",
      " 12  quarter            object \n",
      "dtypes: float64(1), int64(4), object(8)\n",
      "memory usage: 407.8+ MB\n"
     ]
    }
   ],
   "source": [
    "# check the data types of the columns \n",
    "df.info()"
   ]
  },
  {
   "cell_type": "markdown",
   "metadata": {},
   "source": [
    "- from the data info, we can see that the `start_time` and `end_time` columns are not in datetime format. We will convert them to `datetime` format.\n",
    "- also, the `trip_id`,`bikeid`, `start_station_id` and `end_station_id` are not in the right format. We will convert them to string format.\n",
    "- we will also drop the `tripduration` column as it is string format and we can calculate the trip duration from the `start_time` and `end_time` columns.\n",
    "- also we will add new columns for the day of the week, month\n",
    "- add a new column `age` to indicate the age of the rider at the time of the trip, we can calculate this from the `birthyear` column\n"
   ]
  },
  {
   "cell_type": "code",
   "execution_count": 9,
   "metadata": {},
   "outputs": [],
   "source": [
    "# convert the start_time and end_time columns to datetime\n",
    "df['start_time'] = pd.to_datetime(df['start_time'])\n",
    "df['end_time'] = pd.to_datetime(df['end_time'])\n",
    "# convert the trip_id, from_station_id, to_station_id, bikeid from int to object\n",
    "df['trip_id'] = df['trip_id'].astype('object')\n",
    "df['from_station_id'] = df['from_station_id'].astype('object')\n",
    "df['to_station_id'] = df['to_station_id'].astype('object')\n",
    "df['bikeid'] = df['bikeid'].astype('object')"
   ]
  },
  {
   "cell_type": "code",
   "execution_count": 10,
   "metadata": {},
   "outputs": [],
   "source": [
    "# drop the tripduration column \n",
    "df.drop('tripduration', axis=1, inplace=True)\n",
    "# add new column the duration of each trip in minutes\n",
    "df['duration'] = round((df['end_time'] - df['start_time']).dt.total_seconds() / 60, 2)\n"
   ]
  },
  {
   "cell_type": "code",
   "execution_count": 11,
   "metadata": {},
   "outputs": [],
   "source": [
    "# add new columns for the  day, day of the week and month\n",
    "df['day'] = df['start_time'].dt.day\n",
    "df['day_of_week'] = df['start_time'].dt.day_name()\n",
    "df['month'] = df['start_time'].dt.month_name()"
   ]
  },
  {
   "cell_type": "code",
   "execution_count": 12,
   "metadata": {},
   "outputs": [],
   "source": [
    "# calculate age from birthyear column and add a new column\n",
    "df['age'] = 2020 - df['birthyear']"
   ]
  },
  {
   "cell_type": "code",
   "execution_count": 13,
   "metadata": {},
   "outputs": [
    {
     "data": {
      "text/plain": [
       "trip_id               0.000000\n",
       "start_time            0.000000\n",
       "end_time              0.000000\n",
       "bikeid                0.000000\n",
       "from_station_id       0.000000\n",
       "from_station_name     0.000000\n",
       "to_station_id         0.000000\n",
       "to_station_name       0.000000\n",
       "usertype              0.000000\n",
       "gender               14.646554\n",
       "birthyear            14.110802\n",
       "quarter               0.000000\n",
       "duration              0.000000\n",
       "day                   0.000000\n",
       "day_of_week           0.000000\n",
       "month                 0.000000\n",
       "age                  14.110802\n",
       "dtype: float64"
      ]
     },
     "execution_count": 13,
     "metadata": {},
     "output_type": "execute_result"
    }
   ],
   "source": [
    "# calculate missing values as a percentage of the total number of rows\n",
    "missing_values = df.isnull().sum()/len(df)*100\n",
    "missing_values"
   ]
  },
  {
   "cell_type": "markdown",
   "metadata": {},
   "source": [
    "there are missing values in the columns 'birthyear'  and 'gender' with around 14% of the rows. . We will drop the rows with missing values because imputing the missing values will not be accurate and will introduce bias into the data.\n"
   ]
  },
  {
   "cell_type": "code",
   "execution_count": 14,
   "metadata": {},
   "outputs": [],
   "source": [
    "# drop the missing values\n",
    "df = df.dropna()"
   ]
  },
  {
   "cell_type": "code",
   "execution_count": 15,
   "metadata": {},
   "outputs": [
    {
     "data": {
      "text/plain": [
       "0"
      ]
     },
     "execution_count": 15,
     "metadata": {},
     "output_type": "execute_result"
    }
   ],
   "source": [
    "# check for duplicates\n",
    "duplicates = df.duplicated().sum()\n",
    "duplicates"
   ]
  },
  {
   "cell_type": "markdown",
   "metadata": {},
   "source": [
    " there are no duplicates in the dataset so we can proceed to the next step"
   ]
  },
  {
   "cell_type": "markdown",
   "metadata": {},
   "source": [
    "#### Check for outliers"
   ]
  },
  {
   "cell_type": "code",
   "execution_count": 16,
   "metadata": {},
   "outputs": [
    {
     "data": {
      "text/html": [
       "<div>\n",
       "<style scoped>\n",
       "    .dataframe tbody tr th:only-of-type {\n",
       "        vertical-align: middle;\n",
       "    }\n",
       "\n",
       "    .dataframe tbody tr th {\n",
       "        vertical-align: top;\n",
       "    }\n",
       "\n",
       "    .dataframe thead th {\n",
       "        text-align: right;\n",
       "    }\n",
       "</style>\n",
       "<table border=\"1\" class=\"dataframe\">\n",
       "  <thead>\n",
       "    <tr style=\"text-align: right;\">\n",
       "      <th></th>\n",
       "      <th>start_time</th>\n",
       "      <th>end_time</th>\n",
       "      <th>birthyear</th>\n",
       "      <th>duration</th>\n",
       "      <th>day</th>\n",
       "      <th>age</th>\n",
       "    </tr>\n",
       "  </thead>\n",
       "  <tbody>\n",
       "    <tr>\n",
       "      <th>count</th>\n",
       "      <td>3258796</td>\n",
       "      <td>3258796</td>\n",
       "      <td>3258796.00</td>\n",
       "      <td>3258796.00</td>\n",
       "      <td>3258796.00</td>\n",
       "      <td>3258796.00</td>\n",
       "    </tr>\n",
       "    <tr>\n",
       "      <th>mean</th>\n",
       "      <td>2019-07-19 15:27:20.623801600</td>\n",
       "      <td>2019-07-19 15:45:11.743431936</td>\n",
       "      <td>1984.08</td>\n",
       "      <td>17.85</td>\n",
       "      <td>15.52</td>\n",
       "      <td>35.92</td>\n",
       "    </tr>\n",
       "    <tr>\n",
       "      <th>min</th>\n",
       "      <td>2019-01-01 00:04:37</td>\n",
       "      <td>2019-01-01 00:11:07</td>\n",
       "      <td>1759.00</td>\n",
       "      <td>-56.37</td>\n",
       "      <td>1.00</td>\n",
       "      <td>6.00</td>\n",
       "    </tr>\n",
       "    <tr>\n",
       "      <th>25%</th>\n",
       "      <td>2019-05-25 18:41:44.500000</td>\n",
       "      <td>2019-05-25 19:06:00.750000128</td>\n",
       "      <td>1979.00</td>\n",
       "      <td>6.33</td>\n",
       "      <td>8.00</td>\n",
       "      <td>28.00</td>\n",
       "    </tr>\n",
       "    <tr>\n",
       "      <th>50%</th>\n",
       "      <td>2019-07-26 07:59:52.500000</td>\n",
       "      <td>2019-07-26 08:14:23</td>\n",
       "      <td>1987.00</td>\n",
       "      <td>10.52</td>\n",
       "      <td>15.00</td>\n",
       "      <td>33.00</td>\n",
       "    </tr>\n",
       "    <tr>\n",
       "      <th>75%</th>\n",
       "      <td>2019-09-17 18:28:34.249999872</td>\n",
       "      <td>2019-09-17 18:45:49.249999872</td>\n",
       "      <td>1992.00</td>\n",
       "      <td>17.93</td>\n",
       "      <td>23.00</td>\n",
       "      <td>41.00</td>\n",
       "    </tr>\n",
       "    <tr>\n",
       "      <th>max</th>\n",
       "      <td>2019-12-31 23:57:17</td>\n",
       "      <td>2020-01-10 01:06:36</td>\n",
       "      <td>2014.00</td>\n",
       "      <td>150943.90</td>\n",
       "      <td>31.00</td>\n",
       "      <td>261.00</td>\n",
       "    </tr>\n",
       "    <tr>\n",
       "      <th>std</th>\n",
       "      <td>NaN</td>\n",
       "      <td>NaN</td>\n",
       "      <td>10.86</td>\n",
       "      <td>346.21</td>\n",
       "      <td>8.70</td>\n",
       "      <td>10.86</td>\n",
       "    </tr>\n",
       "  </tbody>\n",
       "</table>\n",
       "</div>"
      ],
      "text/plain": [
       "                          start_time                       end_time  \\\n",
       "count                        3258796                        3258796   \n",
       "mean   2019-07-19 15:27:20.623801600  2019-07-19 15:45:11.743431936   \n",
       "min              2019-01-01 00:04:37            2019-01-01 00:11:07   \n",
       "25%       2019-05-25 18:41:44.500000  2019-05-25 19:06:00.750000128   \n",
       "50%       2019-07-26 07:59:52.500000            2019-07-26 08:14:23   \n",
       "75%    2019-09-17 18:28:34.249999872  2019-09-17 18:45:49.249999872   \n",
       "max              2019-12-31 23:57:17            2020-01-10 01:06:36   \n",
       "std                              NaN                            NaN   \n",
       "\n",
       "        birthyear    duration         day         age  \n",
       "count  3258796.00  3258796.00  3258796.00  3258796.00  \n",
       "mean      1984.08       17.85       15.52       35.92  \n",
       "min       1759.00      -56.37        1.00        6.00  \n",
       "25%       1979.00        6.33        8.00       28.00  \n",
       "50%       1987.00       10.52       15.00       33.00  \n",
       "75%       1992.00       17.93       23.00       41.00  \n",
       "max       2014.00   150943.90       31.00      261.00  \n",
       "std         10.86      346.21        8.70       10.86  "
      ]
     },
     "execution_count": 16,
     "metadata": {},
     "output_type": "execute_result"
    }
   ],
   "source": [
    "# print the data description of the numerical columns with round to 2 decimal places\n",
    "df.describe().round(2)"
   ]
  },
  {
   "cell_type": "markdown",
   "metadata": {},
   "source": [
    "* from the description, the maximum age is 261 which is not possible. we will remove the rows with age greater than 100,\n",
    "also the minimum duration is -56.37 which is not possible. we will remove the rows with duration less than 0.\n",
    "* Max duration of is 150943.90 minutes which is 24 hours, this is not possible, we will remove the rows with duration greater than 24 hours"
   ]
  },
  {
   "cell_type": "code",
   "execution_count": 17,
   "metadata": {},
   "outputs": [],
   "source": [
    "# remove rows with age greater than 100 and rows with duration greater than 24 hours and less than 1 minute\n",
    "df = df[(df['age'] <= 100) & (df['duration'] <= 1440) & (df['duration'] >= 1)]"
   ]
  },
  {
   "cell_type": "code",
   "execution_count": 18,
   "metadata": {},
   "outputs": [
    {
     "data": {
      "text/html": [
       "<div>\n",
       "<style scoped>\n",
       "    .dataframe tbody tr th:only-of-type {\n",
       "        vertical-align: middle;\n",
       "    }\n",
       "\n",
       "    .dataframe tbody tr th {\n",
       "        vertical-align: top;\n",
       "    }\n",
       "\n",
       "    .dataframe thead th {\n",
       "        text-align: right;\n",
       "    }\n",
       "</style>\n",
       "<table border=\"1\" class=\"dataframe\">\n",
       "  <thead>\n",
       "    <tr style=\"text-align: right;\">\n",
       "      <th></th>\n",
       "      <th>start_time</th>\n",
       "      <th>end_time</th>\n",
       "      <th>birthyear</th>\n",
       "      <th>duration</th>\n",
       "      <th>day</th>\n",
       "      <th>age</th>\n",
       "    </tr>\n",
       "  </thead>\n",
       "  <tbody>\n",
       "    <tr>\n",
       "      <th>count</th>\n",
       "      <td>3257169</td>\n",
       "      <td>3257169</td>\n",
       "      <td>3257169.00</td>\n",
       "      <td>3257169.00</td>\n",
       "      <td>3257169.00</td>\n",
       "      <td>3257169.00</td>\n",
       "    </tr>\n",
       "    <tr>\n",
       "      <th>mean</th>\n",
       "      <td>2019-07-19 15:28:06.958864896</td>\n",
       "      <td>2019-07-19 15:43:25.773369344</td>\n",
       "      <td>1984.10</td>\n",
       "      <td>15.31</td>\n",
       "      <td>15.52</td>\n",
       "      <td>35.90</td>\n",
       "    </tr>\n",
       "    <tr>\n",
       "      <th>min</th>\n",
       "      <td>2019-01-01 00:04:37</td>\n",
       "      <td>2019-01-01 00:11:07</td>\n",
       "      <td>1920.00</td>\n",
       "      <td>1.02</td>\n",
       "      <td>1.00</td>\n",
       "      <td>6.00</td>\n",
       "    </tr>\n",
       "    <tr>\n",
       "      <th>25%</th>\n",
       "      <td>2019-05-25 18:43:29</td>\n",
       "      <td>2019-05-25 19:07:40</td>\n",
       "      <td>1979.00</td>\n",
       "      <td>6.33</td>\n",
       "      <td>8.00</td>\n",
       "      <td>28.00</td>\n",
       "    </tr>\n",
       "    <tr>\n",
       "      <th>50%</th>\n",
       "      <td>2019-07-26 07:58:47</td>\n",
       "      <td>2019-07-26 08:11:45</td>\n",
       "      <td>1987.00</td>\n",
       "      <td>10.52</td>\n",
       "      <td>15.00</td>\n",
       "      <td>33.00</td>\n",
       "    </tr>\n",
       "    <tr>\n",
       "      <th>75%</th>\n",
       "      <td>2019-09-17 18:27:42</td>\n",
       "      <td>2019-09-17 18:43:17</td>\n",
       "      <td>1992.00</td>\n",
       "      <td>17.93</td>\n",
       "      <td>23.00</td>\n",
       "      <td>41.00</td>\n",
       "    </tr>\n",
       "    <tr>\n",
       "      <th>max</th>\n",
       "      <td>2019-12-31 23:57:17</td>\n",
       "      <td>2020-01-01 17:25:25</td>\n",
       "      <td>2014.00</td>\n",
       "      <td>1439.75</td>\n",
       "      <td>31.00</td>\n",
       "      <td>100.00</td>\n",
       "    </tr>\n",
       "    <tr>\n",
       "      <th>std</th>\n",
       "      <td>NaN</td>\n",
       "      <td>NaN</td>\n",
       "      <td>10.79</td>\n",
       "      <td>25.85</td>\n",
       "      <td>8.70</td>\n",
       "      <td>10.79</td>\n",
       "    </tr>\n",
       "  </tbody>\n",
       "</table>\n",
       "</div>"
      ],
      "text/plain": [
       "                          start_time                       end_time  \\\n",
       "count                        3257169                        3257169   \n",
       "mean   2019-07-19 15:28:06.958864896  2019-07-19 15:43:25.773369344   \n",
       "min              2019-01-01 00:04:37            2019-01-01 00:11:07   \n",
       "25%              2019-05-25 18:43:29            2019-05-25 19:07:40   \n",
       "50%              2019-07-26 07:58:47            2019-07-26 08:11:45   \n",
       "75%              2019-09-17 18:27:42            2019-09-17 18:43:17   \n",
       "max              2019-12-31 23:57:17            2020-01-01 17:25:25   \n",
       "std                              NaN                            NaN   \n",
       "\n",
       "        birthyear    duration         day         age  \n",
       "count  3257169.00  3257169.00  3257169.00  3257169.00  \n",
       "mean      1984.10       15.31       15.52       35.90  \n",
       "min       1920.00        1.02        1.00        6.00  \n",
       "25%       1979.00        6.33        8.00       28.00  \n",
       "50%       1987.00       10.52       15.00       33.00  \n",
       "75%       1992.00       17.93       23.00       41.00  \n",
       "max       2014.00     1439.75       31.00      100.00  \n",
       "std         10.79       25.85        8.70       10.79  "
      ]
     },
     "execution_count": 18,
     "metadata": {},
     "output_type": "execute_result"
    }
   ],
   "source": [
    "df.describe().round(2)"
   ]
  },
  {
   "cell_type": "markdown",
   "metadata": {},
   "source": [
    "# 3. CONDUCT DESCRIPTIVE ANALYSIS"
   ]
  },
  {
   "cell_type": "code",
   "execution_count": 19,
   "metadata": {},
   "outputs": [
    {
     "data": {
      "text/html": [
       "<div>\n",
       "<style scoped>\n",
       "    .dataframe tbody tr th:only-of-type {\n",
       "        vertical-align: middle;\n",
       "    }\n",
       "\n",
       "    .dataframe tbody tr th {\n",
       "        vertical-align: top;\n",
       "    }\n",
       "\n",
       "    .dataframe thead th {\n",
       "        text-align: right;\n",
       "    }\n",
       "</style>\n",
       "<table border=\"1\" class=\"dataframe\">\n",
       "  <thead>\n",
       "    <tr style=\"text-align: right;\">\n",
       "      <th></th>\n",
       "      <th>trip_id</th>\n",
       "      <th>start_time</th>\n",
       "      <th>end_time</th>\n",
       "      <th>bikeid</th>\n",
       "      <th>from_station_id</th>\n",
       "      <th>from_station_name</th>\n",
       "      <th>to_station_id</th>\n",
       "      <th>to_station_name</th>\n",
       "      <th>usertype</th>\n",
       "      <th>gender</th>\n",
       "      <th>birthyear</th>\n",
       "      <th>quarter</th>\n",
       "      <th>duration</th>\n",
       "      <th>day</th>\n",
       "      <th>day_of_week</th>\n",
       "      <th>month</th>\n",
       "      <th>age</th>\n",
       "    </tr>\n",
       "  </thead>\n",
       "  <tbody>\n",
       "    <tr>\n",
       "      <th>0</th>\n",
       "      <td>21742443</td>\n",
       "      <td>2019-01-01 00:04:37</td>\n",
       "      <td>2019-01-01 00:11:07</td>\n",
       "      <td>2167</td>\n",
       "      <td>199</td>\n",
       "      <td>Wabash Ave &amp; Grand Ave</td>\n",
       "      <td>84</td>\n",
       "      <td>Milwaukee Ave &amp; Grand Ave</td>\n",
       "      <td>Subscriber</td>\n",
       "      <td>Male</td>\n",
       "      <td>1989.0</td>\n",
       "      <td>q1</td>\n",
       "      <td>6.50</td>\n",
       "      <td>1</td>\n",
       "      <td>Tuesday</td>\n",
       "      <td>January</td>\n",
       "      <td>31.0</td>\n",
       "    </tr>\n",
       "    <tr>\n",
       "      <th>1</th>\n",
       "      <td>21742444</td>\n",
       "      <td>2019-01-01 00:08:13</td>\n",
       "      <td>2019-01-01 00:15:34</td>\n",
       "      <td>4386</td>\n",
       "      <td>44</td>\n",
       "      <td>State St &amp; Randolph St</td>\n",
       "      <td>624</td>\n",
       "      <td>Dearborn St &amp; Van Buren St (*)</td>\n",
       "      <td>Subscriber</td>\n",
       "      <td>Female</td>\n",
       "      <td>1990.0</td>\n",
       "      <td>q1</td>\n",
       "      <td>7.35</td>\n",
       "      <td>1</td>\n",
       "      <td>Tuesday</td>\n",
       "      <td>January</td>\n",
       "      <td>30.0</td>\n",
       "    </tr>\n",
       "    <tr>\n",
       "      <th>2</th>\n",
       "      <td>21742445</td>\n",
       "      <td>2019-01-01 00:13:23</td>\n",
       "      <td>2019-01-01 00:27:12</td>\n",
       "      <td>1524</td>\n",
       "      <td>15</td>\n",
       "      <td>Racine Ave &amp; 18th St</td>\n",
       "      <td>644</td>\n",
       "      <td>Western Ave &amp; Fillmore St (*)</td>\n",
       "      <td>Subscriber</td>\n",
       "      <td>Female</td>\n",
       "      <td>1994.0</td>\n",
       "      <td>q1</td>\n",
       "      <td>13.82</td>\n",
       "      <td>1</td>\n",
       "      <td>Tuesday</td>\n",
       "      <td>January</td>\n",
       "      <td>26.0</td>\n",
       "    </tr>\n",
       "    <tr>\n",
       "      <th>3</th>\n",
       "      <td>21742446</td>\n",
       "      <td>2019-01-01 00:13:45</td>\n",
       "      <td>2019-01-01 00:43:28</td>\n",
       "      <td>252</td>\n",
       "      <td>123</td>\n",
       "      <td>California Ave &amp; Milwaukee Ave</td>\n",
       "      <td>176</td>\n",
       "      <td>Clark St &amp; Elm St</td>\n",
       "      <td>Subscriber</td>\n",
       "      <td>Male</td>\n",
       "      <td>1993.0</td>\n",
       "      <td>q1</td>\n",
       "      <td>29.72</td>\n",
       "      <td>1</td>\n",
       "      <td>Tuesday</td>\n",
       "      <td>January</td>\n",
       "      <td>27.0</td>\n",
       "    </tr>\n",
       "    <tr>\n",
       "      <th>4</th>\n",
       "      <td>21742447</td>\n",
       "      <td>2019-01-01 00:14:52</td>\n",
       "      <td>2019-01-01 00:20:56</td>\n",
       "      <td>1170</td>\n",
       "      <td>173</td>\n",
       "      <td>Mies van der Rohe Way &amp; Chicago Ave</td>\n",
       "      <td>35</td>\n",
       "      <td>Streeter Dr &amp; Grand Ave</td>\n",
       "      <td>Subscriber</td>\n",
       "      <td>Male</td>\n",
       "      <td>1994.0</td>\n",
       "      <td>q1</td>\n",
       "      <td>6.07</td>\n",
       "      <td>1</td>\n",
       "      <td>Tuesday</td>\n",
       "      <td>January</td>\n",
       "      <td>26.0</td>\n",
       "    </tr>\n",
       "  </tbody>\n",
       "</table>\n",
       "</div>"
      ],
      "text/plain": [
       "    trip_id          start_time            end_time bikeid from_station_id  \\\n",
       "0  21742443 2019-01-01 00:04:37 2019-01-01 00:11:07   2167             199   \n",
       "1  21742444 2019-01-01 00:08:13 2019-01-01 00:15:34   4386              44   \n",
       "2  21742445 2019-01-01 00:13:23 2019-01-01 00:27:12   1524              15   \n",
       "3  21742446 2019-01-01 00:13:45 2019-01-01 00:43:28    252             123   \n",
       "4  21742447 2019-01-01 00:14:52 2019-01-01 00:20:56   1170             173   \n",
       "\n",
       "                     from_station_name to_station_id  \\\n",
       "0               Wabash Ave & Grand Ave            84   \n",
       "1               State St & Randolph St           624   \n",
       "2                 Racine Ave & 18th St           644   \n",
       "3       California Ave & Milwaukee Ave           176   \n",
       "4  Mies van der Rohe Way & Chicago Ave            35   \n",
       "\n",
       "                  to_station_name    usertype  gender  birthyear quarter  \\\n",
       "0       Milwaukee Ave & Grand Ave  Subscriber    Male     1989.0      q1   \n",
       "1  Dearborn St & Van Buren St (*)  Subscriber  Female     1990.0      q1   \n",
       "2   Western Ave & Fillmore St (*)  Subscriber  Female     1994.0      q1   \n",
       "3               Clark St & Elm St  Subscriber    Male     1993.0      q1   \n",
       "4         Streeter Dr & Grand Ave  Subscriber    Male     1994.0      q1   \n",
       "\n",
       "   duration  day day_of_week    month   age  \n",
       "0      6.50    1     Tuesday  January  31.0  \n",
       "1      7.35    1     Tuesday  January  30.0  \n",
       "2     13.82    1     Tuesday  January  26.0  \n",
       "3     29.72    1     Tuesday  January  27.0  \n",
       "4      6.07    1     Tuesday  January  26.0  "
      ]
     },
     "execution_count": 19,
     "metadata": {},
     "output_type": "execute_result"
    }
   ],
   "source": [
    "df.head()"
   ]
  },
  {
   "cell_type": "code",
   "execution_count": 20,
   "metadata": {},
   "outputs": [
    {
     "name": "stdout",
     "output_type": "stream",
     "text": [
      "There are 638 unique stations in the dataset\n"
     ]
    }
   ],
   "source": [
    "# how many unique stations are there in the dataset\n",
    "unique_stations = df['from_station_name'].nunique()\n",
    "print(f'There are {unique_stations} unique stations in the dataset')"
   ]
  },
  {
   "cell_type": "code",
   "execution_count": 21,
   "metadata": {},
   "outputs": [
    {
     "name": "stdout",
     "output_type": "stream",
     "text": [
      "There are 6011 unique bikes in the dataset\n"
     ]
    }
   ],
   "source": [
    "# how many unique bikes are there in the dataset\n",
    "unique_bikes = df['bikeid'].nunique()\n",
    "print(f'There are {unique_bikes} unique bikes in the dataset')"
   ]
  },
  {
   "cell_type": "markdown",
   "metadata": {},
   "source": [
    "### Trip Duration"
   ]
  },
  {
   "cell_type": "code",
   "execution_count": 22,
   "metadata": {},
   "outputs": [
    {
     "name": "stdout",
     "output_type": "stream",
     "text": [
      "The mean duration of the trips is 15.31 minutes\n"
     ]
    },
    {
     "name": "stdout",
     "output_type": "stream",
     "text": [
      "The median duration of the trips is 10.52 minutes\n",
      "The minimum duration of the trips is 1.02 minutes\n",
      "The maximum duration of the trips is 1439.75 minutes\n"
     ]
    }
   ],
   "source": [
    "# describtive statistics of the duration column\n",
    "print(f'The mean duration of the trips is {df[\"duration\"].mean().round(2)} minutes')\n",
    "print(f'The median duration of the trips is {df[\"duration\"].median().round(2)} minutes')\n",
    "print(f'The minimum duration of the trips is {df[\"duration\"].min().round(2)} minutes')\n",
    "print(f'The maximum duration of the trips is {df[\"duration\"].max().round(2)} minutes')\n"
   ]
  },
  {
   "cell_type": "code",
   "execution_count": 23,
   "metadata": {},
   "outputs": [
    {
     "data": {
      "text/html": [
       "<div>\n",
       "<style scoped>\n",
       "    .dataframe tbody tr th:only-of-type {\n",
       "        vertical-align: middle;\n",
       "    }\n",
       "\n",
       "    .dataframe tbody tr th {\n",
       "        vertical-align: top;\n",
       "    }\n",
       "\n",
       "    .dataframe thead th {\n",
       "        text-align: right;\n",
       "    }\n",
       "</style>\n",
       "<table border=\"1\" class=\"dataframe\">\n",
       "  <thead>\n",
       "    <tr style=\"text-align: right;\">\n",
       "      <th></th>\n",
       "      <th>mean</th>\n",
       "      <th>median</th>\n",
       "      <th>min</th>\n",
       "      <th>max</th>\n",
       "      <th>sum</th>\n",
       "      <th>count</th>\n",
       "    </tr>\n",
       "    <tr>\n",
       "      <th>usertype</th>\n",
       "      <th></th>\n",
       "      <th></th>\n",
       "      <th></th>\n",
       "      <th></th>\n",
       "      <th></th>\n",
       "      <th></th>\n",
       "    </tr>\n",
       "  </thead>\n",
       "  <tbody>\n",
       "    <tr>\n",
       "      <th>Customer</th>\n",
       "      <td>35.70</td>\n",
       "      <td>23.07</td>\n",
       "      <td>1.02</td>\n",
       "      <td>1437.08</td>\n",
       "      <td>12271477.10</td>\n",
       "      <td>343768</td>\n",
       "    </tr>\n",
       "    <tr>\n",
       "      <th>Subscriber</th>\n",
       "      <td>12.91</td>\n",
       "      <td>9.80</td>\n",
       "      <td>1.02</td>\n",
       "      <td>1439.75</td>\n",
       "      <td>37607422.62</td>\n",
       "      <td>2913401</td>\n",
       "    </tr>\n",
       "  </tbody>\n",
       "</table>\n",
       "</div>"
      ],
      "text/plain": [
       "             mean  median   min      max          sum    count\n",
       "usertype                                                      \n",
       "Customer    35.70   23.07  1.02  1437.08  12271477.10   343768\n",
       "Subscriber  12.91    9.80  1.02  1439.75  37607422.62  2913401"
      ]
     },
     "execution_count": 23,
     "metadata": {},
     "output_type": "execute_result"
    }
   ],
   "source": [
    "# group duration by user type an aggregate by mean and median  \n",
    "duration_by_user_type = df.groupby('usertype')['duration'].agg(['mean', 'median', 'min', 'max','sum','count']).round(2)\n",
    "duration_by_user_type"
   ]
  },
  {
   "cell_type": "markdown",
   "metadata": {},
   "source": [
    " * from the above table, we can see that the average duration of the trips for customers is higher than subscribers . although the mean and median duration of the trips for customers is higher than  subscribers, but the sum of the duration and the count of the trips for subscribers is much higher than customers.\n",
    " * so we can conclude that subscribers ar more likely to take shorter trips than customers but they take much more trips than customers and in 2019 they make for almost 90% of the total trips, and more than 75% of the total duration of trips."
   ]
  },
  {
   "cell_type": "code",
   "execution_count": 24,
   "metadata": {},
   "outputs": [
    {
     "data": {
      "text/html": [
       "<div>\n",
       "<style scoped>\n",
       "    .dataframe tbody tr th:only-of-type {\n",
       "        vertical-align: middle;\n",
       "    }\n",
       "\n",
       "    .dataframe tbody tr th {\n",
       "        vertical-align: top;\n",
       "    }\n",
       "\n",
       "    .dataframe thead th {\n",
       "        text-align: right;\n",
       "    }\n",
       "</style>\n",
       "<table border=\"1\" class=\"dataframe\">\n",
       "  <thead>\n",
       "    <tr style=\"text-align: right;\">\n",
       "      <th></th>\n",
       "      <th></th>\n",
       "      <th>mean</th>\n",
       "      <th>median</th>\n",
       "    </tr>\n",
       "    <tr>\n",
       "      <th>day_of_week</th>\n",
       "      <th>usertype</th>\n",
       "      <th></th>\n",
       "      <th></th>\n",
       "    </tr>\n",
       "  </thead>\n",
       "  <tbody>\n",
       "    <tr>\n",
       "      <th rowspan=\"2\" valign=\"top\">Friday</th>\n",
       "      <th>Customer</th>\n",
       "      <td>34.73</td>\n",
       "      <td>22.18</td>\n",
       "    </tr>\n",
       "    <tr>\n",
       "      <th>Subscriber</th>\n",
       "      <td>12.52</td>\n",
       "      <td>9.53</td>\n",
       "    </tr>\n",
       "    <tr>\n",
       "      <th rowspan=\"2\" valign=\"top\">Monday</th>\n",
       "      <th>Customer</th>\n",
       "      <td>35.46</td>\n",
       "      <td>22.60</td>\n",
       "    </tr>\n",
       "    <tr>\n",
       "      <th>Subscriber</th>\n",
       "      <td>12.62</td>\n",
       "      <td>9.65</td>\n",
       "    </tr>\n",
       "    <tr>\n",
       "      <th rowspan=\"2\" valign=\"top\">Saturday</th>\n",
       "      <th>Customer</th>\n",
       "      <td>38.76</td>\n",
       "      <td>26.20</td>\n",
       "    </tr>\n",
       "    <tr>\n",
       "      <th>Subscriber</th>\n",
       "      <td>14.44</td>\n",
       "      <td>10.65</td>\n",
       "    </tr>\n",
       "    <tr>\n",
       "      <th rowspan=\"2\" valign=\"top\">Sunday</th>\n",
       "      <th>Customer</th>\n",
       "      <td>38.10</td>\n",
       "      <td>24.98</td>\n",
       "    </tr>\n",
       "    <tr>\n",
       "      <th>Subscriber</th>\n",
       "      <td>14.20</td>\n",
       "      <td>10.52</td>\n",
       "    </tr>\n",
       "    <tr>\n",
       "      <th rowspan=\"2\" valign=\"top\">Thursday</th>\n",
       "      <th>Customer</th>\n",
       "      <td>32.98</td>\n",
       "      <td>20.77</td>\n",
       "    </tr>\n",
       "    <tr>\n",
       "      <th>Subscriber</th>\n",
       "      <td>12.62</td>\n",
       "      <td>9.65</td>\n",
       "    </tr>\n",
       "    <tr>\n",
       "      <th rowspan=\"2\" valign=\"top\">Tuesday</th>\n",
       "      <th>Customer</th>\n",
       "      <td>33.26</td>\n",
       "      <td>20.33</td>\n",
       "    </tr>\n",
       "    <tr>\n",
       "      <th>Subscriber</th>\n",
       "      <td>12.57</td>\n",
       "      <td>9.65</td>\n",
       "    </tr>\n",
       "    <tr>\n",
       "      <th rowspan=\"2\" valign=\"top\">Wednesday</th>\n",
       "      <th>Customer</th>\n",
       "      <td>31.94</td>\n",
       "      <td>20.31</td>\n",
       "    </tr>\n",
       "    <tr>\n",
       "      <th>Subscriber</th>\n",
       "      <td>12.60</td>\n",
       "      <td>9.70</td>\n",
       "    </tr>\n",
       "  </tbody>\n",
       "</table>\n",
       "</div>"
      ],
      "text/plain": [
       "                         mean  median\n",
       "day_of_week usertype                 \n",
       "Friday      Customer    34.73   22.18\n",
       "            Subscriber  12.52    9.53\n",
       "Monday      Customer    35.46   22.60\n",
       "            Subscriber  12.62    9.65\n",
       "Saturday    Customer    38.76   26.20\n",
       "            Subscriber  14.44   10.65\n",
       "Sunday      Customer    38.10   24.98\n",
       "            Subscriber  14.20   10.52\n",
       "Thursday    Customer    32.98   20.77\n",
       "            Subscriber  12.62    9.65\n",
       "Tuesday     Customer    33.26   20.33\n",
       "            Subscriber  12.57    9.65\n",
       "Wednesday   Customer    31.94   20.31\n",
       "            Subscriber  12.60    9.70"
      ]
     },
     "execution_count": 24,
     "metadata": {},
     "output_type": "execute_result"
    }
   ],
   "source": [
    "# duration by day of the week and user type\n",
    "duration_by_day_of_week = df.groupby(['day_of_week', 'usertype'])['duration'].agg(['mean', 'median']).round(2)\n",
    "duration_by_day_of_week"
   ]
  },
  {
   "cell_type": "code",
   "execution_count": 25,
   "metadata": {},
   "outputs": [
    {
     "name": "stderr",
     "output_type": "stream",
     "text": [
      "c:\\Users\\moham\\AppData\\Local\\Programs\\Python\\Python311\\Lib\\site-packages\\seaborn\\_oldcore.py:1498: FutureWarning: is_categorical_dtype is deprecated and will be removed in a future version. Use isinstance(dtype, CategoricalDtype) instead\n",
      "  if pd.api.types.is_categorical_dtype(vector):\n",
      "c:\\Users\\moham\\AppData\\Local\\Programs\\Python\\Python311\\Lib\\site-packages\\seaborn\\_oldcore.py:1498: FutureWarning: is_categorical_dtype is deprecated and will be removed in a future version. Use isinstance(dtype, CategoricalDtype) instead\n",
      "  if pd.api.types.is_categorical_dtype(vector):\n",
      "c:\\Users\\moham\\AppData\\Local\\Programs\\Python\\Python311\\Lib\\site-packages\\seaborn\\_oldcore.py:1498: FutureWarning: is_categorical_dtype is deprecated and will be removed in a future version. Use isinstance(dtype, CategoricalDtype) instead\n",
      "  if pd.api.types.is_categorical_dtype(vector):\n",
      "c:\\Users\\moham\\AppData\\Local\\Programs\\Python\\Python311\\Lib\\site-packages\\seaborn\\_oldcore.py:1498: FutureWarning: is_categorical_dtype is deprecated and will be removed in a future version. Use isinstance(dtype, CategoricalDtype) instead\n",
      "  if pd.api.types.is_categorical_dtype(vector):\n"
     ]
    },
    {
     "data": {
      "image/png": "[encoded data removed]",
      "text/plain": [
       "<Figure size 1200x600 with 1 Axes>"
      ]
     },
     "metadata": {},
     "output_type": "display_data"
    }
   ],
   "source": [
    "# plot the duration by day of the week and user type\n",
    "\n",
    "plt.figure(figsize=(12, 6))\n",
    "sns.barplot(x='day_of_week', y='duration', hue='usertype', data=df, errorbar=None)\n",
    "plt.title('Duration by Day of the Week and User Type')\n",
    "plt.xlabel('Day of the Week')\n",
    "plt.ylabel('Duration (minutes)')\n",
    "plt.xticks(rotation=45)\n",
    "plt.show();"
   ]
  },
  {
   "cell_type": "markdown",
   "metadata": {},
   "source": [
    " - from the plot, we can see that customers have longer trip durations than subscribers on all days of the week\n",
    " - the longest trip durations for customers are on Saturdays and Sundays and also the longest trip durations for subscribers are on Saturdays and Sundays."
   ]
  },
  {
   "cell_type": "code",
   "execution_count": 26,
   "metadata": {},
   "outputs": [
    {
     "data": {
      "text/html": [
       "<div>\n",
       "<style scoped>\n",
       "    .dataframe tbody tr th:only-of-type {\n",
       "        vertical-align: middle;\n",
       "    }\n",
       "\n",
       "    .dataframe tbody tr th {\n",
       "        vertical-align: top;\n",
       "    }\n",
       "\n",
       "    .dataframe thead th {\n",
       "        text-align: right;\n",
       "    }\n",
       "</style>\n",
       "<table border=\"1\" class=\"dataframe\">\n",
       "  <thead>\n",
       "    <tr style=\"text-align: right;\">\n",
       "      <th>usertype</th>\n",
       "      <th>Customer</th>\n",
       "      <th>Subscriber</th>\n",
       "    </tr>\n",
       "    <tr>\n",
       "      <th>day_of_week</th>\n",
       "      <th></th>\n",
       "      <th></th>\n",
       "    </tr>\n",
       "  </thead>\n",
       "  <tbody>\n",
       "    <tr>\n",
       "      <th>Friday</th>\n",
       "      <td>47048</td>\n",
       "      <td>453283</td>\n",
       "    </tr>\n",
       "    <tr>\n",
       "      <th>Monday</th>\n",
       "      <td>40612</td>\n",
       "      <td>455140</td>\n",
       "    </tr>\n",
       "    <tr>\n",
       "      <th>Saturday</th>\n",
       "      <td>78513</td>\n",
       "      <td>284478</td>\n",
       "    </tr>\n",
       "    <tr>\n",
       "      <th>Sunday</th>\n",
       "      <td>63462</td>\n",
       "      <td>253859</td>\n",
       "    </tr>\n",
       "    <tr>\n",
       "      <th>Thursday</th>\n",
       "      <td>41062</td>\n",
       "      <td>483076</td>\n",
       "    </tr>\n",
       "    <tr>\n",
       "      <th>Tuesday</th>\n",
       "      <td>36339</td>\n",
       "      <td>493059</td>\n",
       "    </tr>\n",
       "    <tr>\n",
       "      <th>Wednesday</th>\n",
       "      <td>36732</td>\n",
       "      <td>490506</td>\n",
       "    </tr>\n",
       "  </tbody>\n",
       "</table>\n",
       "</div>"
      ],
      "text/plain": [
       "usertype     Customer  Subscriber\n",
       "day_of_week                      \n",
       "Friday          47048      453283\n",
       "Monday          40612      455140\n",
       "Saturday        78513      284478\n",
       "Sunday          63462      253859\n",
       "Thursday        41062      483076\n",
       "Tuesday         36339      493059\n",
       "Wednesday       36732      490506"
      ]
     },
     "execution_count": 26,
     "metadata": {},
     "output_type": "execute_result"
    }
   ],
   "source": [
    "# user type by day of the week \n",
    "user_type_by_day_of_week = df.groupby(['day_of_week', 'usertype'])['trip_id'].count().unstack().fillna(0)\n",
    "user_type_by_day_of_week"
   ]
  },
  {
   "cell_type": "code",
   "execution_count": 27,
   "metadata": {},
   "outputs": [
    {
     "data": {
      "image/png": "[encoded data removed]",
      "text/plain": [
       "<Figure size 1200x600 with 1 Axes>"
      ]
     },
     "metadata": {},
     "output_type": "display_data"
    }
   ],
   "source": [
    "# plot the user type by day of the week\n",
    "days = ['Monday', 'Tuesday', 'Wednesday', 'Thursday', 'Friday', 'Saturday', 'Sunday']\n",
    "user_type_by_day_of_week = user_type_by_day_of_week.reindex(days)\n",
    "user_type_by_day_of_week.plot(kind='bar', stacked=True, figsize=(12, 6))\n",
    "plt.title('User Type by Day of the Week')\n",
    "plt.xlabel('Day of the Week')\n",
    "plt.ylabel('Count')\n",
    "plt.xticks(rotation=45)\n",
    "plt.legend(title='User Type', loc='upper right')\n",
    "plt.show()"
   ]
  },
  {
   "cell_type": "markdown",
   "metadata": {},
   "source": [
    "- as we can see from the plot, the number of subscribers is higher than the number of customers on all days of the week.\n",
    "- in saturday and sunday, customers are making more trips than other days of the week, despite the subscribers making less trips on weekends.\n",
    "- we can also conclude that subscribers are making trips more during the weekdays than the weekends, but custumers making trips more in weekends than weekdays."
   ]
  },
  {
   "cell_type": "code",
   "execution_count": 28,
   "metadata": {},
   "outputs": [
    {
     "data": {
      "text/html": [
       "<div>\n",
       "<style scoped>\n",
       "    .dataframe tbody tr th:only-of-type {\n",
       "        vertical-align: middle;\n",
       "    }\n",
       "\n",
       "    .dataframe tbody tr th {\n",
       "        vertical-align: top;\n",
       "    }\n",
       "\n",
       "    .dataframe thead th {\n",
       "        text-align: right;\n",
       "    }\n",
       "</style>\n",
       "<table border=\"1\" class=\"dataframe\">\n",
       "  <thead>\n",
       "    <tr style=\"text-align: right;\">\n",
       "      <th>usertype</th>\n",
       "      <th>Customer</th>\n",
       "      <th>Subscriber</th>\n",
       "    </tr>\n",
       "    <tr>\n",
       "      <th>month</th>\n",
       "      <th></th>\n",
       "      <th></th>\n",
       "    </tr>\n",
       "  </thead>\n",
       "  <tbody>\n",
       "    <tr>\n",
       "      <th>April</th>\n",
       "      <td>13102</td>\n",
       "      <td>216157</td>\n",
       "    </tr>\n",
       "    <tr>\n",
       "      <th>August</th>\n",
       "      <td>83117</td>\n",
       "      <td>399815</td>\n",
       "    </tr>\n",
       "    <tr>\n",
       "      <th>December</th>\n",
       "      <td>6134</td>\n",
       "      <td>137366</td>\n",
       "    </tr>\n",
       "    <tr>\n",
       "      <th>February</th>\n",
       "      <td>730</td>\n",
       "      <td>92719</td>\n",
       "    </tr>\n",
       "    <tr>\n",
       "      <th>January</th>\n",
       "      <td>1185</td>\n",
       "      <td>97895</td>\n",
       "    </tr>\n",
       "    <tr>\n",
       "      <th>July</th>\n",
       "      <td>75323</td>\n",
       "      <td>378101</td>\n",
       "    </tr>\n",
       "    <tr>\n",
       "      <th>June</th>\n",
       "      <td>42600</td>\n",
       "      <td>342928</td>\n",
       "    </tr>\n",
       "    <tr>\n",
       "      <th>March</th>\n",
       "      <td>4008</td>\n",
       "      <td>148576</td>\n",
       "    </tr>\n",
       "    <tr>\n",
       "      <th>May</th>\n",
       "      <td>23678</td>\n",
       "      <td>283799</td>\n",
       "    </tr>\n",
       "    <tr>\n",
       "      <th>November</th>\n",
       "      <td>7820</td>\n",
       "      <td>157033</td>\n",
       "    </tr>\n",
       "    <tr>\n",
       "      <th>October</th>\n",
       "      <td>30620</td>\n",
       "      <td>298135</td>\n",
       "    </tr>\n",
       "    <tr>\n",
       "      <th>September</th>\n",
       "      <td>55451</td>\n",
       "      <td>360877</td>\n",
       "    </tr>\n",
       "  </tbody>\n",
       "</table>\n",
       "</div>"
      ],
      "text/plain": [
       "usertype   Customer  Subscriber\n",
       "month                          \n",
       "April         13102      216157\n",
       "August        83117      399815\n",
       "December       6134      137366\n",
       "February        730       92719\n",
       "January        1185       97895\n",
       "July          75323      378101\n",
       "June          42600      342928\n",
       "March          4008      148576\n",
       "May           23678      283799\n",
       "November       7820      157033\n",
       "October       30620      298135\n",
       "September     55451      360877"
      ]
     },
     "execution_count": 28,
     "metadata": {},
     "output_type": "execute_result"
    }
   ],
   "source": [
    "# user type by month and aggregate by count and sort by month\n",
    "user_type_by_month = df.groupby(['month', 'usertype'])['trip_id'].count().unstack().fillna(0)\n",
    "\n",
    "user_type_by_month"
   ]
  },
  {
   "cell_type": "code",
   "execution_count": 29,
   "metadata": {},
   "outputs": [
    {
     "data": {
      "image/png": "[encoded data removed]",
      "text/plain": [
       "<Figure size 1200x600 with 1 Axes>"
      ]
     },
     "metadata": {},
     "output_type": "display_data"
    }
   ],
   "source": [
    "# plot the user type by month\n",
    "months = ['January', 'February', 'March', 'April', 'May', 'June', 'July', 'August', 'September', 'October', 'November', 'December']\n",
    "user_type_by_month = user_type_by_month.reindex(months)\n",
    "user_type_by_month.plot(kind='bar', stacked=True, figsize=(12, 6))\n",
    "plt.title('User Type by Month')\n",
    "plt.xlabel('Month')\n",
    "plt.ylabel('Count')\n",
    "plt.xticks(rotation=45)\n",
    "plt.legend(title='User Type', loc='upper right')\n",
    "plt.show()"
   ]
  },
  {
   "cell_type": "markdown",
   "metadata": {},
   "source": [
    "- from the user type by month plot, we can see that the number of customers is higher than the number of subscribers across all the months.\n",
    "- in the month of January, February, March, April, May and June, the number of customers is significantly very low. this could be due to the fact that the weather is colder in these months and people are less likely to use the bikes for leisure activities.\n",
    "- in the month of July, August and September, the number of customers is significantly higher than all the other months.\n",
    "- This could be due to the fact that the weather is warmer in these months and people are more likely to use the bikes for leisure activities."
   ]
  },
  {
   "cell_type": "code",
   "execution_count": 30,
   "metadata": {},
   "outputs": [
    {
     "data": {
      "text/html": [
       "<div>\n",
       "<style scoped>\n",
       "    .dataframe tbody tr th:only-of-type {\n",
       "        vertical-align: middle;\n",
       "    }\n",
       "\n",
       "    .dataframe tbody tr th {\n",
       "        vertical-align: top;\n",
       "    }\n",
       "\n",
       "    .dataframe thead th {\n",
       "        text-align: right;\n",
       "    }\n",
       "</style>\n",
       "<table border=\"1\" class=\"dataframe\">\n",
       "  <thead>\n",
       "    <tr style=\"text-align: right;\">\n",
       "      <th>usertype</th>\n",
       "      <th>Customer</th>\n",
       "      <th>Subscriber</th>\n",
       "    </tr>\n",
       "    <tr>\n",
       "      <th>gender</th>\n",
       "      <th></th>\n",
       "      <th></th>\n",
       "    </tr>\n",
       "  </thead>\n",
       "  <tbody>\n",
       "    <tr>\n",
       "      <th>Female</th>\n",
       "      <td>131267</td>\n",
       "      <td>726387</td>\n",
       "    </tr>\n",
       "    <tr>\n",
       "      <th>Male</th>\n",
       "      <td>212501</td>\n",
       "      <td>2187014</td>\n",
       "    </tr>\n",
       "  </tbody>\n",
       "</table>\n",
       "</div>"
      ],
      "text/plain": [
       "usertype  Customer  Subscriber\n",
       "gender                        \n",
       "Female      131267      726387\n",
       "Male        212501     2187014"
      ]
     },
     "execution_count": 30,
     "metadata": {},
     "output_type": "execute_result"
    }
   ],
   "source": [
    "# user type by gender and aggregate by count\n",
    "user_type_gender = df.groupby(['gender', 'usertype'])['trip_id'].count().unstack().fillna(0)\n",
    "user_type_gender"
   ]
  },
  {
   "cell_type": "code",
   "execution_count": 31,
   "metadata": {},
   "outputs": [
    {
     "data": {
      "image/png": "[encoded data removed]",
      "text/plain": [
       "<Figure size 640x480 with 1 Axes>"
      ]
     },
     "metadata": {},
     "output_type": "display_data"
    }
   ],
   "source": [
    "# plot the user type by gender\n",
    "user_type_gender.plot(kind='bar', stacked=True)\n",
    "plt.title('User Type by gender')\n",
    "plt.xlabel('gender')\n",
    "plt.ylabel('Count')\n",
    "plt.xticks(rotation=45)\n",
    "plt.legend(title='User Type', loc='upper left')\n",
    "plt.show()\n"
   ]
  },
  {
   "cell_type": "markdown",
   "metadata": {},
   "source": [
    "- as we can see from the plot above, male users are the most frequent users. \n"
   ]
  },
  {
   "cell_type": "code",
   "execution_count": 32,
   "metadata": {},
   "outputs": [
    {
     "data": {
      "text/plain": [
       "usertype\n",
       "Customer      31.94\n",
       "Subscriber    36.37\n",
       "Name: age, dtype: float64"
      ]
     },
     "execution_count": 32,
     "metadata": {},
     "output_type": "execute_result"
    }
   ],
   "source": [
    "# age by user type and aggregate by mean\n",
    "age_by_user_type = df.groupby('usertype')['age'].mean().round(2)\n",
    "age_by_user_type"
   ]
  },
  {
   "cell_type": "code",
   "execution_count": 33,
   "metadata": {},
   "outputs": [
    {
     "data": {
      "text/html": [
       "<div>\n",
       "<style scoped>\n",
       "    .dataframe tbody tr th:only-of-type {\n",
       "        vertical-align: middle;\n",
       "    }\n",
       "\n",
       "    .dataframe tbody tr th {\n",
       "        vertical-align: top;\n",
       "    }\n",
       "\n",
       "    .dataframe thead th {\n",
       "        text-align: right;\n",
       "    }\n",
       "</style>\n",
       "<table border=\"1\" class=\"dataframe\">\n",
       "  <thead>\n",
       "    <tr style=\"text-align: right;\">\n",
       "      <th>usertype</th>\n",
       "      <th>Customer</th>\n",
       "      <th>Subscriber</th>\n",
       "    </tr>\n",
       "    <tr>\n",
       "      <th>age</th>\n",
       "      <th></th>\n",
       "      <th></th>\n",
       "    </tr>\n",
       "  </thead>\n",
       "  <tbody>\n",
       "    <tr>\n",
       "      <th>6.0</th>\n",
       "      <td>0.0</td>\n",
       "      <td>3.0</td>\n",
       "    </tr>\n",
       "    <tr>\n",
       "      <th>17.0</th>\n",
       "      <td>290.0</td>\n",
       "      <td>468.0</td>\n",
       "    </tr>\n",
       "    <tr>\n",
       "      <th>18.0</th>\n",
       "      <td>1087.0</td>\n",
       "      <td>1009.0</td>\n",
       "    </tr>\n",
       "    <tr>\n",
       "      <th>19.0</th>\n",
       "      <td>3057.0</td>\n",
       "      <td>5650.0</td>\n",
       "    </tr>\n",
       "    <tr>\n",
       "      <th>20.0</th>\n",
       "      <td>7226.0</td>\n",
       "      <td>11369.0</td>\n",
       "    </tr>\n",
       "    <tr>\n",
       "      <th>...</th>\n",
       "      <td>...</td>\n",
       "      <td>...</td>\n",
       "    </tr>\n",
       "    <tr>\n",
       "      <th>90.0</th>\n",
       "      <td>0.0</td>\n",
       "      <td>35.0</td>\n",
       "    </tr>\n",
       "    <tr>\n",
       "      <th>91.0</th>\n",
       "      <td>0.0</td>\n",
       "      <td>5.0</td>\n",
       "    </tr>\n",
       "    <tr>\n",
       "      <th>95.0</th>\n",
       "      <td>2.0</td>\n",
       "      <td>0.0</td>\n",
       "    </tr>\n",
       "    <tr>\n",
       "      <th>99.0</th>\n",
       "      <td>0.0</td>\n",
       "      <td>247.0</td>\n",
       "    </tr>\n",
       "    <tr>\n",
       "      <th>100.0</th>\n",
       "      <td>1.0</td>\n",
       "      <td>0.0</td>\n",
       "    </tr>\n",
       "  </tbody>\n",
       "</table>\n",
       "<p>78 rows × 2 columns</p>\n",
       "</div>"
      ],
      "text/plain": [
       "usertype  Customer  Subscriber\n",
       "age                           \n",
       "6.0            0.0         3.0\n",
       "17.0         290.0       468.0\n",
       "18.0        1087.0      1009.0\n",
       "19.0        3057.0      5650.0\n",
       "20.0        7226.0     11369.0\n",
       "...            ...         ...\n",
       "90.0           0.0        35.0\n",
       "91.0           0.0         5.0\n",
       "95.0           2.0         0.0\n",
       "99.0           0.0       247.0\n",
       "100.0          1.0         0.0\n",
       "\n",
       "[78 rows x 2 columns]"
      ]
     },
     "execution_count": 33,
     "metadata": {},
     "output_type": "execute_result"
    }
   ],
   "source": [
    "# user type by age and aggregate by count\n",
    "user_type_age = df.groupby(['age', 'usertype'])['trip_id'].count().unstack().fillna(0)\n",
    "user_type_age"
   ]
  },
  {
   "cell_type": "code",
   "execution_count": 34,
   "metadata": {},
   "outputs": [
    {
     "data": {
      "image/png": "[encoded data removed]",
      "text/plain": [
       "<Figure size 1200x600 with 1 Axes>"
      ]
     },
     "metadata": {},
     "output_type": "display_data"
    }
   ],
   "source": [
    "# plot the user type by age\n",
    "user_type_age.plot(kind='bar', figsize=(12, 6))\n",
    "plt.title('User Type by Age')\n",
    "plt.xlabel('Age')\n",
    "plt.ylabel('Count')\n",
    "plt.xticks(rotation=90)\n",
    "plt.legend(title='User Type', loc='upper left')\n",
    "plt.show()"
   ]
  },
  {
   "cell_type": "markdown",
   "metadata": {},
   "source": [
    "- from the plot, we can see that the majority of the users are between 20 and 40 years old and as the age increases the number of users is becoming less.\n",
    "- we can also see that the majority of the users are subscribers, subscribers are more than customers in all age groups.\n",
    "- the subscribers has peak at 28 years old and the customers has peak at 25 years old so "
   ]
  },
  {
   "cell_type": "code",
   "execution_count": 35,
   "metadata": {},
   "outputs": [
    {
     "data": {
      "text/plain": [
       "from_station_name\n",
       "Canal St & Adams St             52224\n",
       "Clinton St & Madison St         47458\n",
       "Clinton St & Washington Blvd    46430\n",
       "Columbus Dr & Randolph St       33701\n",
       "Franklin St & Monroe St         32468\n",
       "Kingsbury St & Kinzie St        32243\n",
       "Daley Center Plaza              31738\n",
       "Streeter Dr & Grand Ave         30901\n",
       "Michigan Ave & Washington St    29331\n",
       "Canal St & Madison St           28181\n",
       "Name: count, dtype: int64"
      ]
     },
     "execution_count": 35,
     "metadata": {},
     "output_type": "execute_result"
    }
   ],
   "source": [
    "# which stations are the most popular?\n",
    "popular_stations = df['from_station_name'].value_counts().head(10)\n",
    "popular_stations"
   ]
  },
  {
   "cell_type": "code",
   "execution_count": 36,
   "metadata": {},
   "outputs": [
    {
     "data": {
      "text/html": [
       "<div>\n",
       "<style scoped>\n",
       "    .dataframe tbody tr th:only-of-type {\n",
       "        vertical-align: middle;\n",
       "    }\n",
       "\n",
       "    .dataframe tbody tr th {\n",
       "        vertical-align: top;\n",
       "    }\n",
       "\n",
       "    .dataframe thead th {\n",
       "        text-align: right;\n",
       "    }\n",
       "</style>\n",
       "<table border=\"1\" class=\"dataframe\">\n",
       "  <thead>\n",
       "    <tr style=\"text-align: right;\">\n",
       "      <th>usertype</th>\n",
       "      <th>Customer</th>\n",
       "      <th>Subscriber</th>\n",
       "      <th>total</th>\n",
       "    </tr>\n",
       "    <tr>\n",
       "      <th>from_station_name</th>\n",
       "      <th></th>\n",
       "      <th></th>\n",
       "      <th></th>\n",
       "    </tr>\n",
       "  </thead>\n",
       "  <tbody>\n",
       "    <tr>\n",
       "      <th>Canal St &amp; Adams St</th>\n",
       "      <td>1719.0</td>\n",
       "      <td>50505.0</td>\n",
       "      <td>52224.0</td>\n",
       "    </tr>\n",
       "    <tr>\n",
       "      <th>Clinton St &amp; Madison St</th>\n",
       "      <td>1857.0</td>\n",
       "      <td>45601.0</td>\n",
       "      <td>47458.0</td>\n",
       "    </tr>\n",
       "    <tr>\n",
       "      <th>Clinton St &amp; Washington Blvd</th>\n",
       "      <td>1336.0</td>\n",
       "      <td>45094.0</td>\n",
       "      <td>46430.0</td>\n",
       "    </tr>\n",
       "    <tr>\n",
       "      <th>Columbus Dr &amp; Randolph St</th>\n",
       "      <td>2604.0</td>\n",
       "      <td>31097.0</td>\n",
       "      <td>33701.0</td>\n",
       "    </tr>\n",
       "    <tr>\n",
       "      <th>Franklin St &amp; Monroe St</th>\n",
       "      <td>1740.0</td>\n",
       "      <td>30728.0</td>\n",
       "      <td>32468.0</td>\n",
       "    </tr>\n",
       "    <tr>\n",
       "      <th>Kingsbury St &amp; Kinzie St</th>\n",
       "      <td>1792.0</td>\n",
       "      <td>30451.0</td>\n",
       "      <td>32243.0</td>\n",
       "    </tr>\n",
       "    <tr>\n",
       "      <th>Daley Center Plaza</th>\n",
       "      <td>1451.0</td>\n",
       "      <td>30287.0</td>\n",
       "      <td>31738.0</td>\n",
       "    </tr>\n",
       "    <tr>\n",
       "      <th>Streeter Dr &amp; Grand Ave</th>\n",
       "      <td>16106.0</td>\n",
       "      <td>14795.0</td>\n",
       "      <td>30901.0</td>\n",
       "    </tr>\n",
       "    <tr>\n",
       "      <th>Michigan Ave &amp; Washington St</th>\n",
       "      <td>4069.0</td>\n",
       "      <td>25262.0</td>\n",
       "      <td>29331.0</td>\n",
       "    </tr>\n",
       "    <tr>\n",
       "      <th>Canal St &amp; Madison St</th>\n",
       "      <td>1177.0</td>\n",
       "      <td>27004.0</td>\n",
       "      <td>28181.0</td>\n",
       "    </tr>\n",
       "  </tbody>\n",
       "</table>\n",
       "</div>"
      ],
      "text/plain": [
       "usertype                      Customer  Subscriber    total\n",
       "from_station_name                                          \n",
       "Canal St & Adams St             1719.0     50505.0  52224.0\n",
       "Clinton St & Madison St         1857.0     45601.0  47458.0\n",
       "Clinton St & Washington Blvd    1336.0     45094.0  46430.0\n",
       "Columbus Dr & Randolph St       2604.0     31097.0  33701.0\n",
       "Franklin St & Monroe St         1740.0     30728.0  32468.0\n",
       "Kingsbury St & Kinzie St        1792.0     30451.0  32243.0\n",
       "Daley Center Plaza              1451.0     30287.0  31738.0\n",
       "Streeter Dr & Grand Ave        16106.0     14795.0  30901.0\n",
       "Michigan Ave & Washington St    4069.0     25262.0  29331.0\n",
       "Canal St & Madison St           1177.0     27004.0  28181.0"
      ]
     },
     "execution_count": 36,
     "metadata": {},
     "output_type": "execute_result"
    }
   ],
   "source": [
    "# most popular stations by user type\n",
    "popular_stations_by_user_type = df.groupby(['from_station_name', 'usertype'])['trip_id'].count().unstack().fillna(0)\n",
    "popular_stations_by_user_type['total'] = popular_stations_by_user_type['Customer'] + popular_stations_by_user_type['Subscriber']\n",
    "popular_stations_by_user_type = popular_stations_by_user_type.sort_values(by='total', ascending=False).head(10)\n",
    "popular_stations_by_user_type"
   ]
  },
  {
   "cell_type": "code",
   "execution_count": 37,
   "metadata": {},
   "outputs": [
    {
     "data": {
      "image/png": "[encoded data removed]",
      "text/plain": [
       "<Figure size 1200x600 with 1 Axes>"
      ]
     },
     "metadata": {},
     "output_type": "display_data"
    }
   ],
   "source": [
    "# plot the most popular stations by user type\n",
    "popular_stations_by_user_type.drop('total', axis=1).plot(kind='bar', figsize=(12, 6))\n",
    "plt.title('Most Popular Stations by User Type')\n",
    "plt.xlabel('Station Name')\n",
    "plt.ylabel('Count')\n",
    "plt.xticks(rotation=90)\n",
    "plt.legend(title='User Type', loc='upper left')\n",
    "plt.show()\n"
   ]
  },
  {
   "cell_type": "markdown",
   "metadata": {},
   "source": [
    "from the plot above, we can see that subscribers are the most frequent users of the most popular stations except for the station with the name 'Streeter Dr & Grand Ave' where customers are the most frequent users.\n",
    "\n"
   ]
  },
  {
   "cell_type": "markdown",
   "metadata": {},
   "source": [
    "# Summary\n",
    "- Subscribers make up the majority of users, accounting for almost 90% of the total trips and more than 75% of the total duration of trips.\n",
    "- Customers tend to take longer trips compared to subscribers, but subscribers take a significantly higher number of trips.\n",
    "- Trip durations for both customers and subscribers are longer on weekends, particularly on Saturdays and Sundays.\n",
    "- subscribers are making trips more during the weekdays than the weekends, but custumers making trips more in weekends than weekdays.\n",
    "- The number of customers is significantly higher in the months of July, August, and September, possibly due to warmer weather and increased leisure activities.\n",
    "- Male users are the most frequent users of the bike sharing service.\n",
    "- The majority of users are between 20 and 40 years old, with the number of users decreasing as age increases.\n",
    "- The most popular stations are predominantly used by subscribers, except for one station where customers are the most frequent users.\n"
   ]
  },
  {
   "cell_type": "markdown",
   "metadata": {},
   "source": [
    "# Conclusion"
   ]
  },
  {
   "cell_type": "markdown",
   "metadata": {},
   "source": [
    "##### Based on the analysis, here are some key differences between subscribers and customers:\n",
    "\n",
    "\n",
    "1. **Usage**: Subscribers make up the majority of users, accounting for almost 90% of the total trips. This suggests that subscribers use the bike sharing service more frequently than customers.\n",
    "\n",
    "2. **Trip Duration**: Customers tend to take longer trips compared to subscribers. This could indicate that customers use the service for leisure or tourism purposes, while subscribers might use it for regular, shorter trips such as commuting.\n",
    "\n",
    "3. **Usage Pattern**: The trip durations for both customers and subscribers are longer on weekends, but the increase is more pronounced for customers. This further supports the idea that customers might be using the service more for leisure or tourism.\n",
    "\n",
    "4. **Seasonality**: The number of customers is significantly higher in the warmer months of July, August, and September. This could suggest that customers are more likely to use the service when the weather is warmer, while subscribers use the service consistently throughout the year.\n",
    "\n",
    "\n",
    "In conclusion, this analysis of the bike sharing data provides valuable insights into various aspects of the bike sharing program. \n",
    "\n",
    "The analysis revealed that subscribers make up the majority of users, indicating a strong user base for the bike sharing program. Additionally, it was found that subscribers tend to take shorter trips compared to customers, but they make a significantly higher number of trips overall.\n",
    "\n",
    "The analysis also highlighted the popularity of certain stations, with some stations being more frequently used by subscribers and others by customers. This information can be used to optimize bike station placement and improve the overall user experience.\n",
    "\n",
    "Furthermore, the analysis examined user demographics, revealing that the majority of users fall within the age range of 20-40 years old. Male users were found to be the most frequent users of the bike sharing program.\n"
   ]
  },
  {
   "cell_type": "markdown",
   "metadata": {},
   "source": [
    "# Recommendations"
   ]
  },
  {
   "cell_type": "markdown",
   "metadata": {},
   "source": [
    "####  recommendations for the marketing team:\n",
    "\n",
    "**Target Subscribers**: Since subscribers make up the majority of users, marketing efforts should focus on retaining these users and encouraging more frequent usage. This could be achieved through loyalty programs, discounts for frequent usage, or personalized marketing campaigns.\n",
    "\n",
    "**Promote Off-Peak Usage**: To balance the load on the bike sharing service, marketing campaigns could encourage usage during off-peak hours or days. This could be done through off-peak discounts or special promotions.\n",
    "\n",
    "**Attract More Customers in Warmer Months**: The number of customers is significantly higher in the warmer months. Marketing campaigns could be ramped up during this period to attract even more customers. This could include outdoor advertising, partnerships with local businesses, or summer promotions.\n",
    "\n",
    "**Focus on Younger Demographics**: The majority of users are between 20 and 40 years old. Marketing efforts should therefore be tailored to appeal to this demographic. This could involve using social media marketing, influencer partnerships, or events targeting this age group.\n",
    "\n",
    "**Promote Popular Stations**: The most popular stations could be highlighted in marketing materials to attract new users. This could also involve partnering with businesses near these stations for joint promotions.\n",
    "\n",
    "**Attract More Female Users**: Since the majority of users are male, there could be an opportunity to attract more female users. This could involve targeted marketing campaigns, women-only biking events, or partnerships with women-focused brands."
   ]
  }
 ],
 "metadata": {
  "kernelspec": {
   "display_name": "Python 3",
   "language": "python",
   "name": "python3"
  },
  "language_info": {
   "codemirror_mode": {
    "name": "ipython",
    "version": 3
   },
   "file_extension": ".py",
   "mimetype": "text/x-python",
   "name": "python",
   "nbconvert_exporter": "python",
   "pygments_lexer": "ipython3",
   "version": "3.11.5"
  }
 },
 "nbformat": 4,
 "nbformat_minor": 2
}
